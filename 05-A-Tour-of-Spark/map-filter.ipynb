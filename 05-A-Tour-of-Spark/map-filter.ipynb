{
 "cells": [
  {
   "attachments": {},
   "cell_type": "markdown",
   "metadata": {},
   "source": [
    "# Using map and filter methods with lambda functions on RDD"
   ]
  },
  {
   "cell_type": "code",
   "execution_count": 1,
   "metadata": {},
   "outputs": [],
   "source": [
    "# from pyspark.sql import SparkSession\n",
    "# spark = SparkSession.builder \\\n",
    "#     .master(\"local[1]\") \\\n",
    "#     .appName(\"MySparkApp\") \\\n",
    "#     .config(\"spark.some.config.option\", \"some-value\") \\\n",
    "#     .getOrCreate()\n"
   ]
  },
  {
   "attachments": {},
   "cell_type": "markdown",
   "metadata": {},
   "source": [
    "## Lambda function\n",
    "\n",
    "Printing a lambda function shows it is indeed a function"
   ]
  },
  {
   "cell_type": "code",
   "execution_count": 2,
   "metadata": {},
   "outputs": [
    {
     "data": {
      "text/plain": [
       "<function __main__.<lambda>(x)>"
      ]
     },
     "execution_count": 2,
     "metadata": {},
     "output_type": "execute_result"
    }
   ],
   "source": [
    "lambda x: x + 1"
   ]
  },
  {
   "attachments": {},
   "cell_type": "markdown",
   "metadata": {},
   "source": [
    "Following assigns a name to the lambda function"
   ]
  },
  {
   "cell_type": "code",
   "execution_count": 3,
   "metadata": {},
   "outputs": [
    {
     "data": {
      "text/plain": [
       "4"
      ]
     },
     "execution_count": 3,
     "metadata": {},
     "output_type": "execute_result"
    }
   ],
   "source": [
    "func = lambda r: r + 1\n",
    "\n",
    "func(3)"
   ]
  },
  {
   "attachments": {},
   "cell_type": "markdown",
   "metadata": {},
   "source": [
    "## Toy Data\n",
    "\n",
    "From https://sparkbyexamples.com/"
   ]
  },
  {
   "cell_type": "code",
   "execution_count": 4,
   "metadata": {},
   "outputs": [
    {
     "name": "stdout",
     "output_type": "stream",
     "text": [
      "+---------+--------+------+------+\n",
      "|firstname|lastname|gender|salary|\n",
      "+---------+--------+------+------+\n",
      "|    James|   Smith|     M|    30|\n",
      "|     Anna|    Rose|     F|    41|\n",
      "|   Robert|Williams|     M|    62|\n",
      "+---------+--------+------+------+\n",
      "\n"
     ]
    }
   ],
   "source": [
    "data = [('James','Smith','M',30),\n",
    "  ('Anna','Rose','F',41),\n",
    "  ('Robert','Williams','M',62), \n",
    "]\n",
    "\n",
    "columns = [\"firstname\",\"lastname\",\"gender\",\"salary\"]\n",
    "df = spark.createDataFrame(data=data, schema = columns)\n",
    "df.show()"
   ]
  },
  {
   "attachments": {},
   "cell_type": "markdown",
   "metadata": {},
   "source": [
    "## RDD: resilient distributed dataset\n",
    "\n",
    "Raw RDD does not have index names"
   ]
  },
  {
   "cell_type": "code",
   "execution_count": 5,
   "metadata": {},
   "outputs": [
    {
     "name": "stdout",
     "output_type": "stream",
     "text": [
      "James, Smith\n",
      "Anna, Rose\n",
      "Robert, Williams\n"
     ]
    }
   ],
   "source": [
    "rdd = df.rdd\n",
    "dataColl=rdd.collect()\n",
    "\n",
    "for row in dataColl:\n",
    "    print(row[0] + \", \" +str(row[1]))"
   ]
  },
  {
   "attachments": {},
   "cell_type": "markdown",
   "metadata": {},
   "source": [
    "## Map operation\n",
    "\n",
    "Map operation applies a function to each row of RDD. To print the contents nicely, turn RDD back into a dataframe\n",
    "\n",
    "Following example uses an anonymous lambda function"
   ]
  },
  {
   "cell_type": "code",
   "execution_count": 6,
   "metadata": {},
   "outputs": [
    {
     "name": "stdout",
     "output_type": "stream",
     "text": [
      "+----------------+------+------+\n",
      "|            name|gender|salary|\n",
      "+----------------+------+------+\n",
      "|    James, Smith|     M|    60|\n",
      "|      Anna, Rose|     F|    82|\n",
      "|Robert, Williams|     M|   124|\n",
      "+----------------+------+------+\n",
      "\n"
     ]
    }
   ],
   "source": [
    "rdd_rename_1 = df.rdd.map(lambda x: \n",
    "    (x.firstname+\", \"+x.lastname,x.gender,x.salary*2)\n",
    "    )\n",
    "rdd_rename_1.toDF([\"name\", \"gender\", \"salary\"]).show()"
   ]
  },
  {
   "attachments": {},
   "cell_type": "markdown",
   "metadata": {},
   "source": [
    "Following example uses an named lambda function. Note the function call is clearer at the cost of creating another lingering object."
   ]
  },
  {
   "cell_type": "code",
   "execution_count": 7,
   "metadata": {},
   "outputs": [
    {
     "name": "stdout",
     "output_type": "stream",
     "text": [
      "+----------------+------+------+\n",
      "|            name|gender|salary|\n",
      "+----------------+------+------+\n",
      "|    James, Smith|     M|    60|\n",
      "|      Anna, Rose|     F|    82|\n",
      "|Robert, Williams|     M|   124|\n",
      "+----------------+------+------+\n",
      "\n"
     ]
    }
   ],
   "source": [
    "rename_lambda_func = lambda x: (x.firstname+\", \"+x.lastname,x.gender,x.salary*2)\n",
    "\n",
    "rdd_rename_2 = df.rdd.map(rename_lambda_func)\n",
    "rdd_rename_2.toDF([\"name\", \"gender\", \"salary\"]).show()"
   ]
  },
  {
   "attachments": {},
   "cell_type": "markdown",
   "metadata": {},
   "source": [
    "Following non-lambda function is equivalent."
   ]
  },
  {
   "cell_type": "code",
   "execution_count": 8,
   "metadata": {},
   "outputs": [
    {
     "name": "stdout",
     "output_type": "stream",
     "text": [
      "+----------------+------+------+\n",
      "|            name|gender|salary|\n",
      "+----------------+------+------+\n",
      "|    James, Smith|     M|    60|\n",
      "|      Anna, Rose|     F|    82|\n",
      "|Robert, Williams|     M|   124|\n",
      "+----------------+------+------+\n",
      "\n"
     ]
    }
   ],
   "source": [
    "def rename_def_func(x):\n",
    "    return (x.firstname+\", \"+x.lastname,x.gender,x.salary*2)\n",
    "\n",
    "rdd_rename_3 = df.rdd.map(rename_def_func)\n",
    "rdd_rename_3.toDF([\"name\", \"gender\", \"salary\"]).show()"
   ]
  },
  {
   "attachments": {},
   "cell_type": "markdown",
   "metadata": {},
   "source": [
    "## Filtering operation\n",
    "\n",
    "Filtering rows of RDD can be achieved with lambda functions as well."
   ]
  },
  {
   "cell_type": "code",
   "execution_count": 9,
   "metadata": {},
   "outputs": [
    {
     "name": "stdout",
     "output_type": "stream",
     "text": [
      "+-----+------+------+------+\n",
      "| name|gender|salary|salary|\n",
      "+-----+------+------+------+\n",
      "|James| Smith|     M|    30|\n",
      "+-----+------+------+------+\n",
      "\n"
     ]
    }
   ],
   "source": [
    "rdd_filter = df.rdd.filter(lambda x: \"James\" in x.firstname)\n",
    "rdd_filter.toDF([\"name\", \"gender\", \"salary\"]).show()"
   ]
  }
 ],
 "metadata": {
  "kernelspec": {
   "display_name": "base",
   "language": "python",
   "name": "python3"
  },
  "language_info": {
   "codemirror_mode": {
    "name": "ipython",
    "version": 3
   },
   "file_extension": ".py",
   "mimetype": "text/x-python",
   "name": "python",
   "nbconvert_exporter": "python",
   "pygments_lexer": "ipython3",
   "version": "3.10.8"
  },
  "orig_nbformat": 4,
  "vscode": {
   "interpreter": {
    "hash": "d4d1e4263499bec80672ea0156c357c1ee493ec2b1c70f0acce89fc37c4a6abe"
   }
  }
 },
 "nbformat": 4,
 "nbformat_minor": 2
}
